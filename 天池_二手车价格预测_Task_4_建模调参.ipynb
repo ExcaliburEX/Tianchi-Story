{
 "cells": [
  {
   "cell_type": "markdown",
   "metadata": {},
   "source": [
    "# Datawhale 零基础入门数据挖掘-Task4 建模调参 "
   ]
  },
  {
   "cell_type": "markdown",
   "metadata": {},
   "source": [
    "# 0️⃣ 前言\n",
    "&emsp;&emsp;本章思维导图：\n",
    "\n",
    "![](../img/建模调参.png)\n",
    "\n",
    "### 0️⃣.1️⃣ 赛题重述\n",
    "    \n",
    "&emsp;&emsp;这是一道来自于天池的新手练习题目，用`数据分析`、`机器学习`等手段进行 [二手车售卖价格预测](https://tianchi.aliyun.com/competition/entrance/231784/information) 的回归问题。赛题本身的思路清晰明了，即对给定的数据集进行分析探讨，然后设计模型运用数据进行训练，测试模型，最终给出选手的预测结果。前面我们已经进行过EDA分析在这里[天池_二手车价格预测_Task1-2_赛题理解与数据分析\n",
    "](https://blog.csdn.net/ExcaliburUlimited/article/details/105021630)以及[天池_二手车价格预测_Task3_特征工程](https://editor.csdn.net/md/?articleId=105170015)\n",
    "\n",
    "### 0️⃣.2️⃣ 数据集概述\n",
    "&emsp;&emsp;赛题官方给出了来自Ebay Kleinanzeigen的二手车交易记录，总数据量超过**40w**，包含**31列**变量信息，其中**15列**为匿名变量，即`v0`至`v15`。并从中抽取**15万条**作为训练集，**5万**条作为测试集A，**5万**条作为测试集B，同时对`name`、`model`、`brand`和`regionCode`等信息进行脱敏。具体的数据表如下图：\n",
    "\n",
    "<div class=\"table-wrapper\" style = \"center\"><table style = \"center\">\n",
    "<thead>\n",
    "<tr style = \"center\">\n",
    "<th><strong>Field</strong></th>\n",
    "<th><strong>Description</strong></th>\n",
    "</tr>\n",
    "</thead>\n",
    "<tbody style = \"center\">\n",
    "<tr style = \"center\">\n",
    "<td >SaleID</td>\n",
    "<td>交易ID，唯一编码</td>\n",
    "</tr>\n",
    "<tr>\n",
    "<td>name</td>\n",
    "<td>汽车交易名称，已脱敏</td>\n",
    "</tr>\n",
    "<tr>\n",
    "<td>regDate</td>\n",
    "<td>汽车注册日期，例如20160101，2016年01月01日</td>\n",
    "</tr>\n",
    "<tr>\n",
    "<td>model</td>\n",
    "<td>车型编码，已脱敏</td>\n",
    "</tr>\n",
    "<tr>\n",
    "<td>brand</td>\n",
    "<td>汽车品牌，已脱敏</td>\n",
    "</tr>\n",
    "<tr>\n",
    "<td>bodyType</td>\n",
    "<td>车身类型：豪华轿车：0，微型车：1，厢型车：2，大巴车：3，敞篷车：4，双门汽车：5，商务车：6，搅拌车：7</td>\n",
    "</tr>\n",
    "<tr>\n",
    "<td>fuelType</td>\n",
    "<td>燃油类型：汽油：0，柴油：1，液化石油气：2，天然气：3，混合动力：4，其他：5，电动：6</td>\n",
    "</tr>\n",
    "<tr>\n",
    "<td>gearbox</td>\n",
    "<td>变速箱：手动：0，自动：1</td>\n",
    "</tr>\n",
    "<tr>\n",
    "<td>power</td>\n",
    "<td>发动机功率：范围 [ 0,  600 ]</td>\n",
    "</tr>\n",
    "<tr>\n",
    "<td>kilometer</td>\n",
    "<td>汽车已行驶公里，单位万km</td>\n",
    "</tr>\n",
    "<tr>\n",
    "<td>notRepairedDamage</td>\n",
    "<td>汽车有尚未修复的损坏：是：0，否：1</td>\n",
    "</tr>\n",
    "<tr>\n",
    "<td>regionCode</td>\n",
    "<td>地区编码，已脱敏</td>\n",
    "</tr>\n",
    "<tr>\n",
    "<td>seller</td>\n",
    "<td>销售方：个体：0，非个体：1</td>\n",
    "</tr>\n",
    "<tr>\n",
    "<td>offerType</td>\n",
    "<td>报价类型：提供：0，请求：1</td>\n",
    "</tr>\n",
    "<tr>\n",
    "<td>creatDate</td>\n",
    "<td>汽车上线时间，即开始售卖时间</td>\n",
    "</tr>\n",
    "<tr>\n",
    "<td>price</td>\n",
    "<td>二手车交易价格（预测目标）</td>\n",
    "</tr>\n",
    "<tr>\n",
    "<td>v系列特征</td>\n",
    "<td>匿名特征，包含v0-14在内15个匿名特征</td>\n",
    "</tr>\n",
    "</tbody>\n",
    "</table>\n",
    "</div>\n"
   ]
  },
  {
   "cell_type": "markdown",
   "metadata": {},
   "source": [
    "# 1️⃣ 数据处理\n",
    "&emsp;&emsp;为了后面处理数据提高性能，所以需要对其进行内存优化。\n",
    "- 导入相关的库"
   ]
  },
  {
   "cell_type": "code",
   "execution_count": 1,
   "metadata": {},
   "outputs": [],
   "source": [
    "import pandas as pd\n",
    "import numpy as np\n",
    "import warnings\n",
    "warnings.filterwarnings('ignore')"
   ]
  },
  {
   "cell_type": "markdown",
   "metadata": {},
   "source": [
    "- 通过调整数据类型，帮助我们减少数据在内存中占用的空间"
   ]
  },
  {
   "cell_type": "code",
   "execution_count": 2,
   "metadata": {},
   "outputs": [],
   "source": [
    "def reduce_mem_usage(df):\n",
    "    \"\"\" 迭代dataframe的所有列，修改数据类型来减少内存的占用        \n",
    "    \"\"\"\n",
    "    start_mem = df.memory_usage().sum() \n",
    "    print('Memory usage of dataframe is {:.2f} MB'.format(start_mem))\n",
    "    \n",
    "    for col in df.columns:\n",
    "        col_type = df[col].dtype\n",
    "        \n",
    "        if col_type != object:\n",
    "            c_min = df[col].min()\n",
    "            c_max = df[col].max()\n",
    "            if str(col_type)[:3] == 'int': # 判断可以用哪种整型就可以表示，就转换到那个整型去\n",
    "                if c_min > np.iinfo(np.int8).min and c_max < np.iinfo(np.int8).max:\n",
    "                    df[col] = df[col].astype(np.int8)\n",
    "                elif c_min > np.iinfo(np.int16).min and c_max < np.iinfo(np.int16).max:\n",
    "                    df[col] = df[col].astype(np.int16)\n",
    "                elif c_min > np.iinfo(np.int32).min and c_max < np.iinfo(np.int32).max:\n",
    "                    df[col] = df[col].astype(np.int32)\n",
    "                elif c_min > np.iinfo(np.int64).min and c_max < np.iinfo(np.int64).max:\n",
    "                    df[col] = df[col].astype(np.int64)  \n",
    "            else:\n",
    "                if c_min > np.finfo(np.float16).min and c_max < np.finfo(np.float16).max:\n",
    "                    df[col] = df[col].astype(np.float16)\n",
    "                elif c_min > np.finfo(np.float32).min and c_max < np.finfo(np.float32).max:\n",
    "                    df[col] = df[col].astype(np.float32)\n",
    "                else:\n",
    "                    df[col] = df[col].astype(np.float64)\n",
    "        else:\n",
    "            df[col] = df[col].astype('category')\n",
    "\n",
    "    end_mem = df.memory_usage().sum() \n",
    "    print('Memory usage after optimization is: {:.2f} MB'.format(end_mem))\n",
    "    print('Decreased by {:.1f}%'.format(100 * (start_mem - end_mem) / start_mem))\n",
    "    return df"
   ]
  },
  {
   "cell_type": "code",
   "execution_count": 3,
   "metadata": {},
   "outputs": [
    {
     "name": "stdout",
     "output_type": "stream",
     "text": [
      "Memory usage of dataframe is 35249888.00 MB\n",
      "Memory usage after optimization is: 8925652.00 MB\n",
      "Decreased by 74.7%\n"
     ]
    }
   ],
   "source": [
    "sample_feature = reduce_mem_usage(pd.read_csv('../excel/data_for_tree.csv'))"
   ]
  },
  {
   "cell_type": "code",
   "execution_count": 4,
   "metadata": {},
   "outputs": [],
   "source": [
    "continuous_feature_names = [x for x in sample_feature.columns if x not in ['price','brand','model']]"
   ]
  },
  {
   "cell_type": "code",
   "execution_count": 5,
   "metadata": {},
   "outputs": [
    {
     "data": {
      "text/html": [
       "<div>\n",
       "<style scoped>\n",
       "    .dataframe tbody tr th:only-of-type {\n",
       "        vertical-align: middle;\n",
       "    }\n",
       "\n",
       "    .dataframe tbody tr th {\n",
       "        vertical-align: top;\n",
       "    }\n",
       "\n",
       "    .dataframe thead th {\n",
       "        text-align: right;\n",
       "    }\n",
       "</style>\n",
       "<table border=\"1\" class=\"dataframe\">\n",
       "  <thead>\n",
       "    <tr style=\"text-align: right;\">\n",
       "      <th></th>\n",
       "      <th>SaleID</th>\n",
       "      <th>name</th>\n",
       "      <th>model</th>\n",
       "      <th>brand</th>\n",
       "      <th>bodyType</th>\n",
       "      <th>fuelType</th>\n",
       "      <th>gearbox</th>\n",
       "      <th>power</th>\n",
       "      <th>kilometer</th>\n",
       "      <th>notRepairedDamage</th>\n",
       "      <th>...</th>\n",
       "      <th>used_time</th>\n",
       "      <th>city</th>\n",
       "      <th>brand_amount</th>\n",
       "      <th>brand_price_max</th>\n",
       "      <th>brand_price_median</th>\n",
       "      <th>brand_price_min</th>\n",
       "      <th>brand_price_sum</th>\n",
       "      <th>brand_price_std</th>\n",
       "      <th>brand_price_average</th>\n",
       "      <th>power_bin</th>\n",
       "    </tr>\n",
       "  </thead>\n",
       "  <tbody>\n",
       "    <tr>\n",
       "      <td>0</td>\n",
       "      <td>1</td>\n",
       "      <td>2262</td>\n",
       "      <td>40.0</td>\n",
       "      <td>1</td>\n",
       "      <td>2.0</td>\n",
       "      <td>0.0</td>\n",
       "      <td>0.0</td>\n",
       "      <td>0</td>\n",
       "      <td>15.0</td>\n",
       "      <td>-</td>\n",
       "      <td>...</td>\n",
       "      <td>4756.0</td>\n",
       "      <td>4.0</td>\n",
       "      <td>4940.0</td>\n",
       "      <td>9504.0</td>\n",
       "      <td>3000.0</td>\n",
       "      <td>149.0</td>\n",
       "      <td>17934852.0</td>\n",
       "      <td>2538.0</td>\n",
       "      <td>3630.0</td>\n",
       "      <td>NaN</td>\n",
       "    </tr>\n",
       "    <tr>\n",
       "      <td>1</td>\n",
       "      <td>5</td>\n",
       "      <td>137642</td>\n",
       "      <td>24.0</td>\n",
       "      <td>10</td>\n",
       "      <td>0.0</td>\n",
       "      <td>1.0</td>\n",
       "      <td>0.0</td>\n",
       "      <td>109</td>\n",
       "      <td>10.0</td>\n",
       "      <td>0.0</td>\n",
       "      <td>...</td>\n",
       "      <td>2482.0</td>\n",
       "      <td>3.0</td>\n",
       "      <td>3556.0</td>\n",
       "      <td>9504.0</td>\n",
       "      <td>2490.0</td>\n",
       "      <td>200.0</td>\n",
       "      <td>10936962.0</td>\n",
       "      <td>2180.0</td>\n",
       "      <td>3074.0</td>\n",
       "      <td>10.0</td>\n",
       "    </tr>\n",
       "    <tr>\n",
       "      <td>2</td>\n",
       "      <td>7</td>\n",
       "      <td>165346</td>\n",
       "      <td>26.0</td>\n",
       "      <td>14</td>\n",
       "      <td>1.0</td>\n",
       "      <td>0.0</td>\n",
       "      <td>0.0</td>\n",
       "      <td>101</td>\n",
       "      <td>15.0</td>\n",
       "      <td>0.0</td>\n",
       "      <td>...</td>\n",
       "      <td>6108.0</td>\n",
       "      <td>4.0</td>\n",
       "      <td>8784.0</td>\n",
       "      <td>9504.0</td>\n",
       "      <td>1350.0</td>\n",
       "      <td>13.0</td>\n",
       "      <td>17445064.0</td>\n",
       "      <td>1798.0</td>\n",
       "      <td>1986.0</td>\n",
       "      <td>10.0</td>\n",
       "    </tr>\n",
       "    <tr>\n",
       "      <td>3</td>\n",
       "      <td>10</td>\n",
       "      <td>18961</td>\n",
       "      <td>19.0</td>\n",
       "      <td>9</td>\n",
       "      <td>3.0</td>\n",
       "      <td>1.0</td>\n",
       "      <td>0.0</td>\n",
       "      <td>101</td>\n",
       "      <td>15.0</td>\n",
       "      <td>0.0</td>\n",
       "      <td>...</td>\n",
       "      <td>3874.0</td>\n",
       "      <td>1.0</td>\n",
       "      <td>4488.0</td>\n",
       "      <td>9504.0</td>\n",
       "      <td>1250.0</td>\n",
       "      <td>55.0</td>\n",
       "      <td>7867901.0</td>\n",
       "      <td>1557.0</td>\n",
       "      <td>1753.0</td>\n",
       "      <td>10.0</td>\n",
       "    </tr>\n",
       "    <tr>\n",
       "      <td>4</td>\n",
       "      <td>13</td>\n",
       "      <td>8129</td>\n",
       "      <td>65.0</td>\n",
       "      <td>1</td>\n",
       "      <td>0.0</td>\n",
       "      <td>0.0</td>\n",
       "      <td>0.0</td>\n",
       "      <td>150</td>\n",
       "      <td>15.0</td>\n",
       "      <td>1.0</td>\n",
       "      <td>...</td>\n",
       "      <td>4152.0</td>\n",
       "      <td>3.0</td>\n",
       "      <td>4940.0</td>\n",
       "      <td>9504.0</td>\n",
       "      <td>3000.0</td>\n",
       "      <td>149.0</td>\n",
       "      <td>17934852.0</td>\n",
       "      <td>2538.0</td>\n",
       "      <td>3630.0</td>\n",
       "      <td>14.0</td>\n",
       "    </tr>\n",
       "  </tbody>\n",
       "</table>\n",
       "<p>5 rows × 39 columns</p>\n",
       "</div>"
      ],
      "text/plain": [
       "   SaleID    name  model  brand  bodyType  fuelType  gearbox  power  \\\n",
       "0       1    2262   40.0      1       2.0       0.0      0.0      0   \n",
       "1       5  137642   24.0     10       0.0       1.0      0.0    109   \n",
       "2       7  165346   26.0     14       1.0       0.0      0.0    101   \n",
       "3      10   18961   19.0      9       3.0       1.0      0.0    101   \n",
       "4      13    8129   65.0      1       0.0       0.0      0.0    150   \n",
       "\n",
       "   kilometer notRepairedDamage  ...  used_time  city  brand_amount  \\\n",
       "0       15.0                 -  ...     4756.0   4.0        4940.0   \n",
       "1       10.0               0.0  ...     2482.0   3.0        3556.0   \n",
       "2       15.0               0.0  ...     6108.0   4.0        8784.0   \n",
       "3       15.0               0.0  ...     3874.0   1.0        4488.0   \n",
       "4       15.0               1.0  ...     4152.0   3.0        4940.0   \n",
       "\n",
       "   brand_price_max  brand_price_median  brand_price_min  brand_price_sum  \\\n",
       "0           9504.0              3000.0            149.0       17934852.0   \n",
       "1           9504.0              2490.0            200.0       10936962.0   \n",
       "2           9504.0              1350.0             13.0       17445064.0   \n",
       "3           9504.0              1250.0             55.0        7867901.0   \n",
       "4           9504.0              3000.0            149.0       17934852.0   \n",
       "\n",
       "   brand_price_std  brand_price_average  power_bin  \n",
       "0           2538.0               3630.0        NaN  \n",
       "1           2180.0               3074.0       10.0  \n",
       "2           1798.0               1986.0       10.0  \n",
       "3           1557.0               1753.0       10.0  \n",
       "4           2538.0               3630.0       14.0  \n",
       "\n",
       "[5 rows x 39 columns]"
      ]
     },
     "execution_count": 5,
     "metadata": {},
     "output_type": "execute_result"
    }
   ],
   "source": [
    "sample_feature.head()"
   ]
  },
  {
   "cell_type": "code",
   "execution_count": 6,
   "metadata": {},
   "outputs": [
    {
     "data": {
      "text/plain": [
       "['SaleID',\n",
       " 'name',\n",
       " 'bodyType',\n",
       " 'fuelType',\n",
       " 'gearbox',\n",
       " 'power',\n",
       " 'kilometer',\n",
       " 'notRepairedDamage',\n",
       " 'seller',\n",
       " 'offerType',\n",
       " 'v_0',\n",
       " 'v_1',\n",
       " 'v_2',\n",
       " 'v_3',\n",
       " 'v_4',\n",
       " 'v_5',\n",
       " 'v_6',\n",
       " 'v_7',\n",
       " 'v_8',\n",
       " 'v_9',\n",
       " 'v_10',\n",
       " 'v_11',\n",
       " 'v_12',\n",
       " 'v_13',\n",
       " 'v_14',\n",
       " 'train',\n",
       " 'used_time',\n",
       " 'city',\n",
       " 'brand_amount',\n",
       " 'brand_price_max',\n",
       " 'brand_price_median',\n",
       " 'brand_price_min',\n",
       " 'brand_price_sum',\n",
       " 'brand_price_std',\n",
       " 'brand_price_average',\n",
       " 'power_bin']"
      ]
     },
     "execution_count": 6,
     "metadata": {},
     "output_type": "execute_result"
    }
   ],
   "source": [
    "continuous_feature_names"
   ]
  },
  {
   "cell_type": "markdown",
   "metadata": {},
   "source": [
    "# 2️⃣ 线性回归\n",
    "## 2️⃣.1️⃣ 简单建模\n",
    "&emsp;&emsp;设置训练集的自变量`train_X`与因变量`train_y`"
   ]
  },
  {
   "cell_type": "code",
   "execution_count": 7,
   "metadata": {},
   "outputs": [],
   "source": [
    "sample_feature = sample_feature.dropna().replace('-', 0).reset_index(drop=True)\n",
    "sample_feature['notRepairedDamage'] = sample_feature['notRepairedDamage'].astype(np.float32)\n",
    "\n",
    "train = sample_feature[continuous_feature_names + ['price']]\n",
    "train_X = train[continuous_feature_names]\n",
    "train_y = train['price']"
   ]
  },
  {
   "cell_type": "markdown",
   "metadata": {},
   "source": [
    "- 从`sklearn.linear_model`库调用线性回归函数"
   ]
  },
  {
   "cell_type": "code",
   "execution_count": 8,
   "metadata": {},
   "outputs": [],
   "source": [
    "from sklearn.linear_model import LinearRegression"
   ]
  },
  {
   "cell_type": "markdown",
   "metadata": {},
   "source": [
    "训练模型，`normalize`设置为`True`则输入的样本数据将$$\\frac{(X-X_{ave})}{||X||}$$"
   ]
  },
  {
   "cell_type": "code",
   "execution_count": 9,
   "metadata": {},
   "outputs": [],
   "source": [
    "model = LinearRegression(normalize=True)\n",
    "model = model.fit(train_X, train_y)"
   ]
  },
  {
   "cell_type": "markdown",
   "metadata": {},
   "source": [
    "查看训练的线性回归模型的截距（intercept）与权重(coef)，其中`zip`先将特征与权重拼成元组，再用`dict.items()`将元组变成列表，`lambda`里面取元组的第2个元素，也就是按照权重排序。"
   ]
  },
  {
   "cell_type": "code",
   "execution_count": 10,
   "metadata": {},
   "outputs": [
    {
     "name": "stdout",
     "output_type": "stream",
     "text": [
      "intercept:-74792.9734982533\n"
     ]
    },
    {
     "data": {
      "text/plain": [
       "[('v_6', 1409712.605060366),\n",
       " ('v_8', 610234.5713666412),\n",
       " ('v_2', 14000.150601494915),\n",
       " ('v_10', 11566.15879987477),\n",
       " ('v_7', 4359.400479384727),\n",
       " ('v_3', 734.1594753553514),\n",
       " ('v_13', 429.31597053081543),\n",
       " ('v_14', 113.51097451363385),\n",
       " ('bodyType', 53.59225499923475),\n",
       " ('fuelType', 28.70033988480179),\n",
       " ('power', 14.063521207625223),\n",
       " ('city', 11.214497244626225),\n",
       " ('brand_price_std', 0.26064581249034796),\n",
       " ('brand_price_median', 0.2236946027016186),\n",
       " ('brand_price_min', 0.14223892840381142),\n",
       " ('brand_price_max', 0.06288317241689621),\n",
       " ('brand_amount', 0.031481415743174694),\n",
       " ('name', 2.866003063271253e-05),\n",
       " ('SaleID', 1.5357186544049832e-05),\n",
       " ('gearbox', 8.527422323822975e-07),\n",
       " ('train', -3.026798367500305e-08),\n",
       " ('offerType', -2.0873267203569412e-07),\n",
       " ('seller', -8.426140993833542e-07),\n",
       " ('brand_price_sum', -4.1644253886318015e-06),\n",
       " ('brand_price_average', -0.10601622599106471),\n",
       " ('used_time', -0.11019174518618283),\n",
       " ('power_bin', -64.74445582883024),\n",
       " ('kilometer', -122.96508938774225),\n",
       " ('v_0', -317.8572907738245),\n",
       " ('notRepairedDamage', -412.1984812088826),\n",
       " ('v_4', -1239.4804712396635),\n",
       " ('v_1', -2389.3641453624136),\n",
       " ('v_12', -12326.513672033445),\n",
       " ('v_11', -16921.982011390297),\n",
       " ('v_5', -25554.951071390704),\n",
       " ('v_9', -26077.95662717417)]"
      ]
     },
     "execution_count": 10,
     "metadata": {},
     "output_type": "execute_result"
    }
   ],
   "source": [
    "print('intercept:'+ str(model.intercept_))\n",
    "\n",
    "sorted(dict(zip(continuous_feature_names, model.coef_)).items(), key=lambda x:x[1], reverse=True)"
   ]
  },
  {
   "cell_type": "markdown",
   "metadata": {},
   "source": [
    "## 2️⃣.2️⃣ 处理长尾分布\n",
    "&emsp;&emsp;长尾分布是尾巴很长的分布。那么尾巴很长很厚的分布有什么特殊的呢？有两方面：一方面，这种分布会使得你的采样不准，估值不准，因为尾部占了很大部分。另一方面，尾部的数据少，人们对它的了解就少，那么如果它是有害的，那么它的破坏力就非常大，因为人们对它的预防措施和经验比较少。实际上，在稳定分布家族中，除了正态分布，其他均为长尾分布。\n",
    "\n",
    "![](https://wiki.mbalib.com/w/images/4/4b/%E9%95%BF%E5%B0%BE%E7%90%86%E8%AE%BA.gif)\n",
    "\n",
    "\n",
    "随机找个特征，用随机下标选取一定的数观测预测值与真实值之间的差别"
   ]
  },
  {
   "cell_type": "code",
   "execution_count": 11,
   "metadata": {},
   "outputs": [
    {
     "name": "stdout",
     "output_type": "stream",
     "text": [
      "真实价格与预测价格差距过大！\n"
     ]
    },
    {
     "data": {
      "text/plain": [
       "<Figure size 640x480 with 1 Axes>"
      ]
     },
     "metadata": {},
     "output_type": "display_data"
    }
   ],
   "source": [
    "from matplotlib import pyplot as plt\n",
    "subsample_index = np.random.randint(low=0, high=len(train_y), size=50)\n",
    "\n",
    "plt.scatter(train_X['v_6'][subsample_index], train_y[subsample_index], color='black')\n",
    "plt.scatter(train_X['v_6'][subsample_index], model.predict(train_X.loc[subsample_index]), color='red')\n",
    "plt.xlabel('v_6')\n",
    "plt.ylabel('price')\n",
    "plt.legend(['True Price','Predicted Price'],loc='upper right')\n",
    "print('真实价格与预测价格差距过大！')\n",
    "plt.show()"
   ]
  },
  {
   "cell_type": "markdown",
   "metadata": {},
   "source": [
    "绘制特征`v_6`的值与标签的散点图，图片发现模型的预测结果（红色点）与真实标签（黑色点）的分布差异较大，且部分预测值出现了小于0的情况，说明我们的模型存在一些问题。\n",
    "下面可以通过作图我们看看数据的标签（`price`）的分布情况"
   ]
  },
  {
   "cell_type": "code",
   "execution_count": 12,
   "metadata": {},
   "outputs": [
    {
     "data": {
      "text/plain": [
       "<matplotlib.axes._subplots.AxesSubplot at 0x210469a20f0>"
      ]
     },
     "execution_count": 12,
     "metadata": {},
     "output_type": "execute_result"
    },
    {
     "data": {
      "image/png": "[encoded data removed]",
      "text/plain": [
       "<Figure size 1080x360 with 2 Axes>"
      ]
     },
     "metadata": {
      "needs_background": "light"
     },
     "output_type": "display_data"
    }
   ],
   "source": [
    "import seaborn as sns\n",
    "plt.figure(figsize=(15,5))\n",
    "plt.subplot(1,2,1)\n",
    "sns.distplot(train_y)\n",
    "plt.subplot(1,2,2)\n",
    "sns.distplot(train_y[train_y < np.quantile(train_y, 0.9)])# 去掉尾部10%的数再画一次，依然是呈现长尾分布"
   ]
  },
  {
   "cell_type": "markdown",
   "metadata": {},
   "source": [
    "从这两个频率分布直方图来看，`price`呈现长尾分布，不利于我们的建模预测，原因是很多模型都假设数据误差项符合正态分布，而长尾分布的数据违背了这一假设。\n",
    "\n",
    "在这里我们对`train_y`进行了$log(x+1)$变换，使标签贴近于正态分布"
   ]
  },
  {
   "cell_type": "code",
   "execution_count": 13,
   "metadata": {},
   "outputs": [
    {
     "data": {
      "text/plain": [
       "<matplotlib.axes._subplots.AxesSubplot at 0x21046aa7588>"
      ]
     },
     "execution_count": 13,
     "metadata": {},
     "output_type": "execute_result"
    },
    {
     "data": {
      "image/png": "[encoded data removed]",
      "text/plain": [
       "<Figure size 1080x360 with 2 Axes>"
      ]
     },
     "metadata": {
      "needs_background": "light"
     },
     "output_type": "display_data"
    }
   ],
   "source": [
    "train_y_ln = np.log(train_y + 1)\n",
    "plt.figure(figsize=(15,5))\n",
    "plt.subplot(1,2,1)\n",
    "sns.distplot(train_y_ln)\n",
    "plt.subplot(1,2,2)\n",
    "sns.distplot(train_y_ln[train_y_ln < np.quantile(train_y_ln, 0.9)])"
   ]
  },
  {
   "cell_type": "markdown",
   "metadata": {},
   "source": [
    "可以看出经过对数处理后，长尾分布的效果减弱了。再进行一次线性回归："
   ]
  },
  {
   "cell_type": "code",
   "execution_count": 14,
   "metadata": {},
   "outputs": [
    {
     "name": "stdout",
     "output_type": "stream",
     "text": [
      "intercept:22.237755141260187\n"
     ]
    },
    {
     "data": {
      "text/plain": [
       "[('v_1', 5.669305855573455),\n",
       " ('v_5', 4.244663233260515),\n",
       " ('v_12', 1.2018270333465797),\n",
       " ('v_13', 1.1021805892566767),\n",
       " ('v_10', 0.9251453991435046),\n",
       " ('v_2', 0.8276319426702504),\n",
       " ('v_9', 0.6011701859510072),\n",
       " ('v_3', 0.4096252333799574),\n",
       " ('v_0', 0.08579322268709569),\n",
       " ('power_bin', 0.013581489882378468),\n",
       " ('bodyType', 0.007405158753814581),\n",
       " ('power', 0.0003639122482301998),\n",
       " ('brand_price_median', 0.0001295023112073966),\n",
       " ('brand_price_max', 5.681812615719255e-05),\n",
       " ('brand_price_std', 4.2637652140444604e-05),\n",
       " ('brand_price_sum', 2.215129563552113e-09),\n",
       " ('gearbox', 7.094911325111752e-10),\n",
       " ('seller', 2.715054847612919e-10),\n",
       " ('offerType', 1.0291500984749291e-10),\n",
       " ('train', -2.2282620193436742e-11),\n",
       " ('SaleID', -3.7349069125800904e-09),\n",
       " ('name', -6.100613320903764e-08),\n",
       " ('brand_amount', -1.63362003323235e-07),\n",
       " ('used_time', -2.9274637535648837e-05),\n",
       " ('brand_price_min', -2.97497751376125e-05),\n",
       " ('brand_price_average', -0.0001181124521449396),\n",
       " ('fuelType', -0.0018817210167693563),\n",
       " ('city', -0.003633315365347111),\n",
       " ('v_14', -0.02594698320698149),\n",
       " ('kilometer', -0.03327227857575015),\n",
       " ('notRepairedDamage', -0.27571086049472),\n",
       " ('v_4', -0.6724689959780609),\n",
       " ('v_7', -1.178076244244115),\n",
       " ('v_11', -1.3234586342526309),\n",
       " ('v_8', -83.08615946716786),\n",
       " ('v_6', -315.0380673447196)]"
      ]
     },
     "execution_count": 14,
     "metadata": {},
     "output_type": "execute_result"
    }
   ],
   "source": [
    "model = model.fit(train_X, train_y_ln)\n",
    "\n",
    "print('intercept:'+ str(model.intercept_))\n",
    "sorted(dict(zip(continuous_feature_names, model.coef_)).items(), key=lambda x:x[1], reverse=True)"
   ]
  },
  {
   "cell_type": "markdown",
   "metadata": {},
   "source": [
    "再一次画出预测与真实值的散点对比图："
   ]
  },
  {
   "cell_type": "code",
   "execution_count": 15,
   "metadata": {},
   "outputs": [
    {
     "data": {
      "image/png": "[encoded data removed]",
      "text/plain": [
       "<Figure size 432x288 with 1 Axes>"
      ]
     },
     "metadata": {
      "needs_background": "light"
     },
     "output_type": "display_data"
    }
   ],
   "source": [
    "plt.scatter(train_X['v_6'][subsample_index], train_y[subsample_index], color='black')\n",
    "plt.scatter(train_X['v_6'][subsample_index], np.exp(model.predict(train_X.loc[subsample_index])), color='blue')\n",
    "plt.xlabel('v_6')\n",
    "plt.ylabel('price')\n",
    "plt.legend(['True Price','Predicted Price'],loc='upper right')\n",
    "plt.show()"
   ]
  },
  {
   "cell_type": "markdown",
   "metadata": {},
   "source": [
    "效果稍微好了一点，但毕竟是线性回归，拟合得还是不够好。"
   ]
  },
  {
   "cell_type": "markdown",
   "metadata": {},
   "source": [
    "# 3️⃣ 五折交叉验证¶（`cross_val_score`）\n",
    "&emsp;&emsp;在使用训练集对参数进行训练的时候，经常会发现人们通常会将一整个训练集分为三个部分（比如mnist手写训练集）。一般分为：训练集（`train_set`），评估集（`valid_set`），测试集（`test_set`）这三个部分。这其实是为了保证训练效果而特意设置的。其中测试集很好理解，其实就是完全不参与训练的数据，仅仅用来观测测试效果的数据。而训练集和评估集则牵涉到下面的知识了。\n",
    "\n",
    "&emsp;&emsp;因为在实际的训练中，训练的结果对于训练集的拟合程度通常还是挺好的（初始条件敏感），但是对于训练集之外的数据的拟合程度通常就不那么令人满意了。因此我们通常并不会把所有的数据集都拿来训练，而是分出一部分来（这一部分不参加训练）对训练集生成的参数进行测试，相对客观的判断这些参数对训练集之外的数据的符合程度。这种思想就称为交叉验证（`Cross Validation`）。\n",
    "\n",
    "&emsp;&emsp;直观的类比就是训练集是上课，评估集是平时的作业，而测试集是最后的期末考试。😏\n",
    "\n",
    "`Cross Validation`：简言之，就是进行多次`train_test_split`划分；每次划分时，在不同的数据集上进行训练、测试评估，从而得出一个评价结果；如果是5折交叉验证，意思就是在原始数据集上，进行5次划分，每次划分进行一次训练、评估，最后得到5次划分后的评估结果，一般在这几次评估结果上取平均得到最后的评分。`k-fold cross-validation` ，其中，`k`一般取5或10。\n",
    "\n",
    "一般情况将K折交叉验证用于模型调优，找到使得模型泛化性能最优的超参值。找到后，在全部训练集上重新训练模型，并使用独立测试集对模型性能做出最终评价。K折交叉验证使用了无重复抽样技术的好处：每次迭代过程中每个样本点只有一次被划入训练集或测试集的机会。\n",
    "\n",
    "![](https://upload-images.jianshu.io/upload_images/9637742-c333f1ad48a0811a.png?imageMogr2/auto-orient/strip%7CimageView2/2/w/1240)\n",
    "![](https://img-blog.csdn.net/20180205102310918?watermark/2/text/aHR0cDovL2Jsb2cuY3Nkbi5uZXQvQ2hlblZhc3Q=/font/5a6L5L2T/fontsize/400/fill/I0JBQkFCMA==/dissolve/70/gravity/SouthEast)\n",
    "![](https://img-blog.csdn.net/20180205102314995?watermark/2/text/aHR0cDovL2Jsb2cuY3Nkbi5uZXQvQ2hlblZhc3Q=/font/5a6L5L2T/fontsize/400/fill/I0JBQkFCMA==/dissolve/70/gravity/SouthEast)\n",
    "\n",
    "\n",
    "更多参考资料：[几种交叉验证（cross validation）方式的比较\n",
    "](https://www.cnblogs.com/ysugyl/p/8707887.html)、[k折交叉验证](https://blog.csdn.net/tianguiyuyu/article/details/80697223)\n",
    "\n",
    "\n",
    "- 下面调用`sklearn.model_selection`的`cross_val_score`进行交叉验证"
   ]
  },
  {
   "cell_type": "code",
   "execution_count": 16,
   "metadata": {},
   "outputs": [],
   "source": [
    "from sklearn.model_selection import cross_val_score\n",
    "from sklearn.metrics import mean_absolute_error,  make_scorer"
   ]
  },
  {
   "cell_type": "markdown",
   "metadata": {},
   "source": [
    "## 3️⃣.1️⃣ `cross_val_score`相应函数的应用"
   ]
  },
  {
   "cell_type": "code",
   "execution_count": 17,
   "metadata": {},
   "outputs": [],
   "source": [
    "def log_transfer(func):\n",
    "    def wrapper(y, yhat):\n",
    "        result = func(np.log(y), np.nan_to_num(np.log(yhat)))\n",
    "        return result\n",
    "    return wrapper"
   ]
  },
  {
   "cell_type": "markdown",
   "metadata": {},
   "source": [
    "- 上面的`log_transfer`是提供装饰器功能，是为了将下面的`cross_val_score`的`make_scorer`的`mean_absolute_error`（它的公式在下面）的输入参数做对数处理，其中`np.nan_to_num`顺便将`nan`转变为0。\n",
    "$$\n",
    "MAE=\\frac{\\sum\\limits_{i=1}^{n}\\left|y_{i}-\\hat{y}_{i}\\right|}{n}\n",
    "$$\n",
    "- `cross_val_score`是`sklearn`用于交叉验证评估分数的函数，前面几个参数很明朗，后面几个参数需要解释一下。\n",
    "    - `verbose`：详细程度，也就是是否输出进度信息\n",
    "    - `cv`：交叉验证生成器或可迭代的次数\n",
    "    - `scoring`：调用用来评价的方法，是score越大约好，还是loss越小越好，默认是loss。这里调用了`mean_absolute_error`，只是在调用之前先进行了`log_transfer`的装饰，然后调用的`y`和`yhat`，会自动将`cross_val_score`得到的`X`和`y`代入。\n",
    "        - `make_scorer`：构建一个完整的定制scorer函数，可选参数`greater_is_better`，默认为`False`，也就是loss越小越好\n",
    "\n",
    "- 下面是对未进行对数处理的原特征数据进行五折交叉验证"
   ]
  },
  {
   "cell_type": "code",
   "execution_count": 18,
   "metadata": {},
   "outputs": [
    {
     "name": "stderr",
     "output_type": "stream",
     "text": [
      "[Parallel(n_jobs=1)]: Using backend SequentialBackend with 1 concurrent workers.\n",
      "[Parallel(n_jobs=1)]: Done   5 out of   5 | elapsed:    0.2s finished\n"
     ]
    }
   ],
   "source": [
    "scores = cross_val_score(model, X=train_X, y=train_y, verbose=1, cv = 5, scoring=make_scorer(log_transfer(mean_absolute_error)))"
   ]
  },
  {
   "cell_type": "code",
   "execution_count": 19,
   "metadata": {},
   "outputs": [
    {
     "name": "stdout",
     "output_type": "stream",
     "text": [
      "AVG: 0.7533845471636889\n"
     ]
    }
   ],
   "source": [
    "print('AVG:', np.mean(scores))"
   ]
  },
  {
   "cell_type": "code",
   "execution_count": 20,
   "metadata": {},
   "outputs": [
    {
     "data": {
      "text/html": [
       "<div>\n",
       "<style scoped>\n",
       "    .dataframe tbody tr th:only-of-type {\n",
       "        vertical-align: middle;\n",
       "    }\n",
       "\n",
       "    .dataframe tbody tr th {\n",
       "        vertical-align: top;\n",
       "    }\n",
       "\n",
       "    .dataframe thead th {\n",
       "        text-align: right;\n",
       "    }\n",
       "</style>\n",
       "<table border=\"1\" class=\"dataframe\">\n",
       "  <thead>\n",
       "    <tr style=\"text-align: right;\">\n",
       "      <th></th>\n",
       "      <th>cv1</th>\n",
       "      <th>cv2</th>\n",
       "      <th>cv3</th>\n",
       "      <th>cv4</th>\n",
       "      <th>cv5</th>\n",
       "    </tr>\n",
       "  </thead>\n",
       "  <tbody>\n",
       "    <tr>\n",
       "      <td>MAE</td>\n",
       "      <td>0.727867</td>\n",
       "      <td>0.759451</td>\n",
       "      <td>0.781238</td>\n",
       "      <td>0.750681</td>\n",
       "      <td>0.747686</td>\n",
       "    </tr>\n",
       "  </tbody>\n",
       "</table>\n",
       "</div>"
      ],
      "text/plain": [
       "          cv1       cv2       cv3       cv4       cv5\n",
       "MAE  0.727867  0.759451  0.781238  0.750681  0.747686"
      ]
     },
     "execution_count": 20,
     "metadata": {},
     "output_type": "execute_result"
    }
   ],
   "source": [
    "scores = pd.DataFrame(scores.reshape(1,-1)) # 转化成一行，(-1,1)为一列\n",
    "scores.columns = ['cv' + str(x) for x in range(1, 6)]\n",
    "scores.index = ['MAE']\n",
    "scores"
   ]
  },
  {
   "cell_type": "markdown",
   "metadata": {},
   "source": [
    "使用线性回归模型，对进行过对数处理的原特征数据进行五折交叉验证"
   ]
  },
  {
   "cell_type": "code",
   "execution_count": 21,
   "metadata": {},
   "outputs": [
    {
     "name": "stderr",
     "output_type": "stream",
     "text": [
      "[Parallel(n_jobs=1)]: Using backend SequentialBackend with 1 concurrent workers.\n",
      "[Parallel(n_jobs=1)]: Done   5 out of   5 | elapsed:    0.1s finished\n"
     ]
    }
   ],
   "source": [
    "scores = cross_val_score(model, X=train_X, y=train_y_ln, verbose=1, cv = 5, scoring=make_scorer(mean_absolute_error))"
   ]
  },
  {
   "cell_type": "code",
   "execution_count": 22,
   "metadata": {},
   "outputs": [
    {
     "name": "stdout",
     "output_type": "stream",
     "text": [
      "AVG: 0.2124134663602803\n"
     ]
    }
   ],
   "source": [
    "print('AVG:', np.mean(scores))"
   ]
  },
  {
   "cell_type": "code",
   "execution_count": 23,
   "metadata": {},
   "outputs": [
    {
     "data": {
      "text/html": [
       "<div>\n",
       "<style scoped>\n",
       "    .dataframe tbody tr th:only-of-type {\n",
       "        vertical-align: middle;\n",
       "    }\n",
       "\n",
       "    .dataframe tbody tr th {\n",
       "        vertical-align: top;\n",
       "    }\n",
       "\n",
       "    .dataframe thead th {\n",
       "        text-align: right;\n",
       "    }\n",
       "</style>\n",
       "<table border=\"1\" class=\"dataframe\">\n",
       "  <thead>\n",
       "    <tr style=\"text-align: right;\">\n",
       "      <th></th>\n",
       "      <th>cv1</th>\n",
       "      <th>cv2</th>\n",
       "      <th>cv3</th>\n",
       "      <th>cv4</th>\n",
       "      <th>cv5</th>\n",
       "    </tr>\n",
       "  </thead>\n",
       "  <tbody>\n",
       "    <tr>\n",
       "      <td>MAE</td>\n",
       "      <td>0.208238</td>\n",
       "      <td>0.212408</td>\n",
       "      <td>0.215933</td>\n",
       "      <td>0.210742</td>\n",
       "      <td>0.214747</td>\n",
       "    </tr>\n",
       "  </tbody>\n",
       "</table>\n",
       "</div>"
      ],
      "text/plain": [
       "          cv1       cv2       cv3       cv4       cv5\n",
       "MAE  0.208238  0.212408  0.215933  0.210742  0.214747"
      ]
     },
     "execution_count": 23,
     "metadata": {},
     "output_type": "execute_result"
    }
   ],
   "source": [
    "scores = pd.DataFrame(scores.reshape(1,-1))\n",
    "scores.columns = ['cv' + str(x) for x in range(1, 6)]\n",
    "scores.index = ['MAE']\n",
    "scores"
   ]
  },
  {
   "cell_type": "markdown",
   "metadata": {},
   "source": [
    "可以看出进行对数处理后，五折交叉验证的loss显著降低。"
   ]
  },
  {
   "cell_type": "markdown",
   "metadata": {},
   "source": [
    "## 3️⃣.2️⃣ 考虑真实世界限制\n",
    "&emsp;&emsp;例如：通过2018年的二手车价格预测2017年的二手车价格，这显然是不合理的，因此我们还可以采用时间顺序对数据集进行分隔。在本例中，我们选用靠前时间的4/5样本当作训练集，靠后时间的1/5当作验证集，最终结果与五折交叉验证差距不大。"
   ]
  },
  {
   "cell_type": "code",
   "execution_count": 24,
   "metadata": {},
   "outputs": [],
   "source": [
    "import datetime\n",
    "sample_feature = sample_feature.reset_index(drop=True)\n",
    "split_point = len(sample_feature) // 5 * 4\n",
    "\n",
    "train = sample_feature.loc[:split_point].dropna()\n",
    "val = sample_feature.loc[split_point:].dropna()\n",
    "\n",
    "train_X = train[continuous_feature_names]\n",
    "train_y_ln = np.log(train['price'])\n",
    "val_X = val[continuous_feature_names]\n",
    "val_y_ln = np.log(val['price'])"
   ]
  },
  {
   "cell_type": "code",
   "execution_count": 25,
   "metadata": {},
   "outputs": [],
   "source": [
    "model = model.fit(train_X, train_y_ln)"
   ]
  },
  {
   "cell_type": "code",
   "execution_count": 26,
   "metadata": {},
   "outputs": [
    {
     "data": {
      "text/plain": [
       "0.21498301182417004"
      ]
     },
     "execution_count": 26,
     "metadata": {},
     "output_type": "execute_result"
    }
   ],
   "source": [
    "mean_absolute_error(val_y_ln, model.predict(val_X))"
   ]
  },
  {
   "cell_type": "markdown",
   "metadata": {},
   "source": [
    "## 3️⃣.3️⃣ 绘制学习率曲线与验证曲线¶"
   ]
  },
  {
   "cell_type": "markdown",
   "metadata": {},
   "source": [
    "&emsp;&emsp;学习曲线是一种用来判断训练模型的一种方法，它会自动把训练样本的数量按照预定的规则逐渐增加，然后画出不同训练样本数量时的模型准确度。\n",
    "\n",
    "&emsp;&emsp;我们可以把$J_{train}(\\theta)$和$J_{test}(\\theta)$作为纵坐标，画出与训练集数据集$m$的大小关系，这就是学习曲线。通过学习曲线，可以直观地观察到模型的准确性和训练数据大小的关系。 我们可以比较直观的了解到我们的模型处于一个什么样的状态，如：过拟合（overfitting）或欠拟合（underfitting）\n",
    "\n",
    "&emsp;&emsp;如果数据集的大小为$m$，则通过下面的流程即可画出学习曲线：\n",
    "\n",
    "- 1.把数据集分成训练数据集和交叉验证集（可以看作测试集）；\n",
    "\n",
    "- 2.取训练数据集的20%作为训练样本，训练出模型参数；\n",
    "\n",
    "- 3.使用交叉验证集来计算训练出来的模型的准确性；\n",
    "\n",
    "- 4.以训练集的score和交叉验证集score为纵坐标(这里的score取决于你使用的`make_score`方法，例如MAE)，训练集的个数作为横坐标，在坐标轴上画出上述步骤计算出来的模型准确性；\n",
    "\n",
    "- 5.训练数据集增加10%，调到步骤2，继续执行，知道训练数据集大小为100%。\n",
    "\n",
    "`learning_curve()`：这个函数主要是用来判断（可视化）模型是否过拟合的。下面是一些参数的解释：\n",
    "\n",
    "- `X`：是一个m*n的矩阵，m:数据数量，n:特征数量；\n",
    "- `y`：是一个m*1的矩阵，m:数据数量，相对于`X`的目标进行分类或回归；\n",
    "- `groups`：将数据集拆分为训练/测试集时使用的样本的标签分组。**[可选]**；\n",
    "- `train_sizes`：指定训练样品数量的变化规则。比如：np.linspace(0.1, 1.0, 5)表示把训练样品数量从0.1-1分成5等分，生成[0.1, 0.325,0.55,0.75,1]的序列，从序列中取出训练样品数量百分比，逐个计算在当前训练样本数量情况下训练出来的模型准确性。\n",
    "- `cv`：`None`，要使用默认的三折交叉验证（v0.22版本中将改为五折）；\n",
    "- `n_jobs`：要并行运行的作业数。None表示1。 -1表示使用所有处理器；\n",
    "- `pre_dispatch`：并行执行的预调度作业数（默认为全部）。该选项可以减少分配的内存。该字符串可以是“ 2 * n_jobs”之类的表达式；\n",
    "- `shuffle`：`bool`，是否在基于`train_sizes`为前缀之前对训练数据进行洗牌；"
   ]
  },
  {
   "cell_type": "code",
   "execution_count": 27,
   "metadata": {},
   "outputs": [],
   "source": [
    "from sklearn.model_selection import learning_curve, validation_curve"
   ]
  },
  {
   "cell_type": "markdown",
   "metadata": {},
   "source": [
    "`plt.fill_between()`用来填充两条线间区域，其他好像没什么好解释的了。"
   ]
  },
  {
   "cell_type": "code",
   "execution_count": 28,
   "metadata": {},
   "outputs": [],
   "source": [
    "def plot_learning_curve(estimator, title, X, y, ylim=None, cv=None,n_jobs=1, train_size=np.linspace(.1, 1.0, 5 )):  \n",
    "    plt.figure()  \n",
    "    plt.title(title)  \n",
    "    if ylim is not None:  \n",
    "        plt.ylim(*ylim)  \n",
    "    plt.xlabel('Training example')  \n",
    "    plt.ylabel('score')  \n",
    "    train_sizes, train_scores, test_scores = learning_curve(estimator, X, y, cv=cv, n_jobs=n_jobs, train_sizes=train_size, scoring = make_scorer(mean_absolute_error))  \n",
    "    train_scores_mean = np.mean(train_scores, axis=1)  \n",
    "    train_scores_std = np.std(train_scores, axis=1)  \n",
    "    test_scores_mean = np.mean(test_scores, axis=1)  \n",
    "    test_scores_std = np.std(test_scores, axis=1)  \n",
    "    plt.grid()#区域  \n",
    "    plt.fill_between(train_sizes, train_scores_mean - train_scores_std,  \n",
    "                     train_scores_mean + train_scores_std, alpha=0.1,  \n",
    "                     color=\"r\")  \n",
    "    plt.fill_between(train_sizes, test_scores_mean - test_scores_std,  \n",
    "                     test_scores_mean + test_scores_std, alpha=0.1,  \n",
    "                     color=\"g\")  \n",
    "    plt.plot(train_sizes, train_scores_mean, 'o-', color='r',  \n",
    "             label=\"Training score\")  \n",
    "    plt.plot(train_sizes, test_scores_mean,'o-',color=\"g\",  \n",
    "             label=\"Cross-validation score\")  \n",
    "    plt.legend(loc=\"best\")  \n",
    "    return plt  "
   ]
  },
  {
   "cell_type": "code",
   "execution_count": 29,
   "metadata": {},
   "outputs": [
    {
     "data": {
      "text/plain": [
       "<module 'matplotlib.pyplot' from 'D:\\\\Software\\\\Anaconda\\\\lib\\\\site-packages\\\\matplotlib\\\\pyplot.py'>"
      ]
     },
     "execution_count": 29,
     "metadata": {},
     "output_type": "execute_result"
    },
    {
     "data": {
      "image/png": "[encoded data removed]",
      "text/plain": [
       "<Figure size 432x288 with 1 Axes>"
      ]
     },
     "metadata": {
      "needs_background": "light"
     },
     "output_type": "display_data"
    }
   ],
   "source": [
    "plot_learning_curve(LinearRegression(), 'Liner_model', train_X[:], train_y_ln[:], ylim=(0.0, 0.5), cv=5, n_jobs=-1)  "
   ]
  },
  {
   "cell_type": "markdown",
   "metadata": {},
   "source": [
    "训练误差与验证误差逐渐一致，准确率也挺高（这里的score是MAE，所以是loss趋近于0.2，准确率趋近于0.8），但是训练误差几乎没变过，所以属于过拟合。这里给出一下高偏差欠拟合(bias)以及高方差过拟合(variance)的模样：\n",
    "\n",
    "![](https://img-blog.csdn.net/20180909113753737?watermark/2/text/aHR0cHM6Ly9ibG9nLmNzZG4ubmV0L3FxXzM2NTIzODM5/font/5a6L5L2T/fontsize/400/fill/I0JBQkFCMA==/dissolve/70)\n",
    "\n",
    "![](https://pic2.zhimg.com/80/afa034d52962681db09b4dc1060f8075_720w.jpg)\n",
    "\n",
    "更形象一点：\n",
    "\n",
    "Data：\n",
    "\n",
    "![](https://pic2.zhimg.com/80/be0d4d438c4e4875d52ba3eadead68f3_720w.jpg)\n",
    "\n",
    "Normal fitting:\n",
    "\n",
    "![](https://pic3.zhimg.com/80/a093710f99364185662a4de1eeaa1573_720w.jpg)\n",
    "\n",
    "overfitting:\n",
    "\n",
    "![](https://pic4.zhimg.com/80/a465a986178732b5b7e174b01836f84b_720w.jpg)\n",
    "\n",
    "serious overfitting:\n",
    "\n",
    "![](https://pic4.zhimg.com/80/f2cb9fd7683d35bf290d57e2adc00f31_720w.jpg)"
   ]
  },
  {
   "cell_type": "markdown",
   "metadata": {},
   "source": [
    "# 4️⃣ 多种模型对比"
   ]
  },
  {
   "cell_type": "code",
   "execution_count": 31,
   "metadata": {},
   "outputs": [],
   "source": [
    "train = sample_feature[continuous_feature_names + ['price']].dropna()\n",
    "\n",
    "train_X = train[continuous_feature_names]\n",
    "train_y = train['price']\n",
    "train_y_ln = np.log(train_y + 1)"
   ]
  },
  {
   "cell_type": "markdown",
   "metadata": {},
   "source": [
    "## 4️⃣.1️⃣ 线性模型 & 嵌入式特征选择\n",
    "&emsp;&emsp;有一些前叙知识需要补全。其中关于正则化的知识：\n",
    "- 分别为L1正则化与L2正则化；\n",
    "- L1正则化的模型建叫做Lasso回归，使用L2正则化的模型叫做Ridge回归（岭回归）；\n",
    "- L1正则化是指权值向量w中各个元素的绝对值之和，通常表示为$\\left \\| w \\right \\| _{1} $；\n",
    "- L2正则化是指权值向量w中各个元素的平方和然后再求平方根（可以看到Ridge回归的L2正则化项有平方符号），通常表示为$\\left \\| w \\right \\| _{2} $\n",
    "- L1正则化可以产生稀疏权值矩阵，即产生一个稀疏模型，可以用于特征选择；\n",
    "- L2正则化可以防止模型过拟合（overfitting），一定程度上，L1也可以防止过拟合；\n",
    "\n",
    "更多其他知识可以看这篇文章：[机器学习中正则化项L1和L2的直观理解](https://blog.csdn.net/jinping_shi/article/details/52433975)\n",
    "\n",
    "&emsp;&emsp;在过滤式和包裹式特征选择方法中，特征选择过程与学习器训练过程有明显的分别。而嵌入式特征选择在学习器训练过程中自动地进行特征选择。嵌入式选择最常用的是L1正则化与L2正则化。在对线性回归模型加入两种正则化方法后，他们分别变成了岭回归与Lasso回归。"
   ]
  },
  {
   "cell_type": "markdown",
   "metadata": {},
   "source": [
    "### 4️⃣.1️⃣.1️⃣ `LinearRegression`，`Ridge`，`Lasso`方法的运行"
   ]
  },
  {
   "cell_type": "code",
   "execution_count": 32,
   "metadata": {},
   "outputs": [],
   "source": [
    "from sklearn.linear_model import LinearRegression\n",
    "from sklearn.linear_model import Ridge\n",
    "from sklearn.linear_model import Lasso"
   ]
  },
  {
   "cell_type": "code",
   "execution_count": 33,
   "metadata": {},
   "outputs": [],
   "source": [
    "models = [LinearRegression(),\n",
    "          Ridge(),\n",
    "          Lasso()]"
   ]
  },
  {
   "cell_type": "code",
   "execution_count": 34,
   "metadata": {},
   "outputs": [
    {
     "name": "stdout",
     "output_type": "stream",
     "text": [
      "LinearRegression is finished\n",
      "Ridge is finished\n"
     ]
    },
    {
     "name": "stderr",
     "output_type": "stream",
     "text": [
      "D:\\Software\\Anaconda\\lib\\site-packages\\sklearn\\linear_model\\coordinate_descent.py:492: ConvergenceWarning: Objective did not converge. You might want to increase the number of iterations. Fitting data with very small alpha may cause precision problems.\n",
      "  ConvergenceWarning)\n",
      "D:\\Software\\Anaconda\\lib\\site-packages\\sklearn\\linear_model\\coordinate_descent.py:492: ConvergenceWarning: Objective did not converge. You might want to increase the number of iterations. Fitting data with very small alpha may cause precision problems.\n",
      "  ConvergenceWarning)\n",
      "D:\\Software\\Anaconda\\lib\\site-packages\\sklearn\\linear_model\\coordinate_descent.py:492: ConvergenceWarning: Objective did not converge. You might want to increase the number of iterations. Fitting data with very small alpha may cause precision problems.\n",
      "  ConvergenceWarning)\n",
      "D:\\Software\\Anaconda\\lib\\site-packages\\sklearn\\linear_model\\coordinate_descent.py:492: ConvergenceWarning: Objective did not converge. You might want to increase the number of iterations. Fitting data with very small alpha may cause precision problems.\n",
      "  ConvergenceWarning)\n"
     ]
    },
    {
     "name": "stdout",
     "output_type": "stream",
     "text": [
      "Lasso is finished\n"
     ]
    },
    {
     "name": "stderr",
     "output_type": "stream",
     "text": [
      "D:\\Software\\Anaconda\\lib\\site-packages\\sklearn\\linear_model\\coordinate_descent.py:492: ConvergenceWarning: Objective did not converge. You might want to increase the number of iterations. Fitting data with very small alpha may cause precision problems.\n",
      "  ConvergenceWarning)\n"
     ]
    }
   ],
   "source": [
    "result = dict()\n",
    "for model in models:\n",
    "    model_name = str(model).split('(')[0]\n",
    "    scores = cross_val_score(model, X=train_X, y=train_y_ln, verbose=0, cv = 5, scoring=make_scorer(mean_absolute_error))\n",
    "    result[model_name] = scores\n",
    "    print(model_name + ' is finished')"
   ]
  },
  {
   "cell_type": "markdown",
   "metadata": {},
   "source": [
    "### 4️⃣.1️⃣.2️⃣ 三种方法的对比"
   ]
  },
  {
   "cell_type": "code",
   "execution_count": 35,
   "metadata": {},
   "outputs": [
    {
     "data": {
      "text/html": [
       "<div>\n",
       "<style scoped>\n",
       "    .dataframe tbody tr th:only-of-type {\n",
       "        vertical-align: middle;\n",
       "    }\n",
       "\n",
       "    .dataframe tbody tr th {\n",
       "        vertical-align: top;\n",
       "    }\n",
       "\n",
       "    .dataframe thead th {\n",
       "        text-align: right;\n",
       "    }\n",
       "</style>\n",
       "<table border=\"1\" class=\"dataframe\">\n",
       "  <thead>\n",
       "    <tr style=\"text-align: right;\">\n",
       "      <th></th>\n",
       "      <th>LinearRegression</th>\n",
       "      <th>Ridge</th>\n",
       "      <th>Lasso</th>\n",
       "    </tr>\n",
       "  </thead>\n",
       "  <tbody>\n",
       "    <tr>\n",
       "      <td>cv1</td>\n",
       "      <td>0.208238</td>\n",
       "      <td>0.213319</td>\n",
       "      <td>0.394868</td>\n",
       "    </tr>\n",
       "    <tr>\n",
       "      <td>cv2</td>\n",
       "      <td>0.212408</td>\n",
       "      <td>0.216857</td>\n",
       "      <td>0.387564</td>\n",
       "    </tr>\n",
       "    <tr>\n",
       "      <td>cv3</td>\n",
       "      <td>0.215933</td>\n",
       "      <td>0.220840</td>\n",
       "      <td>0.402278</td>\n",
       "    </tr>\n",
       "    <tr>\n",
       "      <td>cv4</td>\n",
       "      <td>0.210742</td>\n",
       "      <td>0.215001</td>\n",
       "      <td>0.396664</td>\n",
       "    </tr>\n",
       "    <tr>\n",
       "      <td>cv5</td>\n",
       "      <td>0.214747</td>\n",
       "      <td>0.220031</td>\n",
       "      <td>0.397400</td>\n",
       "    </tr>\n",
       "  </tbody>\n",
       "</table>\n",
       "</div>"
      ],
      "text/plain": [
       "     LinearRegression     Ridge     Lasso\n",
       "cv1          0.208238  0.213319  0.394868\n",
       "cv2          0.212408  0.216857  0.387564\n",
       "cv3          0.215933  0.220840  0.402278\n",
       "cv4          0.210742  0.215001  0.396664\n",
       "cv5          0.214747  0.220031  0.397400"
      ]
     },
     "execution_count": 35,
     "metadata": {},
     "output_type": "execute_result"
    }
   ],
   "source": [
    "result = pd.DataFrame(result)\n",
    "result.index = ['cv' + str(x) for x in range(1, 6)]\n",
    "result"
   ]
  },
  {
   "cell_type": "markdown",
   "metadata": {},
   "source": [
    "1.纯`LinearRegression`方法的情况：`.intercept_`是截距（与y轴的交点）即$\\theta_0$，`.coef_`是模型的斜率即$\\theta_1 - \\theta_n$"
   ]
  },
  {
   "cell_type": "code",
   "execution_count": 36,
   "metadata": {},
   "outputs": [
    {
     "name": "stdout",
     "output_type": "stream",
     "text": [
      "intercept:22.23769348625359\n"
     ]
    },
    {
     "data": {
      "text/plain": [
       "<matplotlib.axes._subplots.AxesSubplot at 0x210418e4d68>"
      ]
     },
     "execution_count": 36,
     "metadata": {},
     "output_type": "execute_result"
    },
    {
     "data": {
      "image/png": "[encoded data removed]",
      "text/plain": [
       "<Figure size 432x288 with 1 Axes>"
      ]
     },
     "metadata": {
      "needs_background": "light"
     },
     "output_type": "display_data"
    }
   ],
   "source": [
    "model = LinearRegression().fit(train_X, train_y_ln)\n",
    "print('intercept:'+ str(model.intercept_)) # 截距（与y轴的交点）\n",
    "sns.barplot(abs(model.coef_), continuous_feature_names) "
   ]
  },
  {
   "cell_type": "markdown",
   "metadata": {},
   "source": [
    "纯`LinearRegression`回归可以发现，得到的参数列表是比较稀疏的。"
   ]
  },
  {
   "cell_type": "code",
   "execution_count": 37,
   "metadata": {},
   "outputs": [
    {
     "data": {
      "text/plain": [
       "array([-3.73489972e-09, -6.10060860e-08,  7.40515349e-03, -1.88182450e-03,\n",
       "       -1.24570527e-04,  3.63911807e-04, -3.32722751e-02, -2.75710825e-01,\n",
       "       -1.43048695e-03, -3.28514719e-03,  8.57926933e-02,  5.66930260e+00,\n",
       "        8.27635812e-01,  4.09620867e-01, -6.72467882e-01,  4.24497013e+00,\n",
       "       -3.15038152e+02, -1.17801777e+00, -8.30861129e+01,  6.01215351e-01,\n",
       "        9.25141289e-01, -1.32345773e+00,  1.20182089e+00,  1.10218030e+00,\n",
       "       -2.59470516e-02,  8.88178420e-13, -2.92746484e-05, -3.63331132e-03,\n",
       "       -1.63354329e-07,  5.68181101e-05,  1.29502381e-04, -2.97497182e-05,\n",
       "        2.21512681e-09,  4.26377388e-05, -1.18112552e-04,  1.35814944e-02])"
      ]
     },
     "execution_count": 37,
     "metadata": {},
     "output_type": "execute_result"
    }
   ],
   "source": [
    "model.coef_"
   ]
  },
  {
   "cell_type": "markdown",
   "metadata": {},
   "source": [
    "2.`Lasso`方法即L1正则化的情况："
   ]
  },
  {
   "cell_type": "code",
   "execution_count": 40,
   "metadata": {},
   "outputs": [
    {
     "name": "stdout",
     "output_type": "stream",
     "text": [
      "intercept:7.946156528722565\n"
     ]
    },
    {
     "name": "stderr",
     "output_type": "stream",
     "text": [
      "D:\\Software\\Anaconda\\lib\\site-packages\\sklearn\\linear_model\\coordinate_descent.py:492: ConvergenceWarning: Objective did not converge. You might want to increase the number of iterations. Fitting data with very small alpha may cause precision problems.\n",
      "  ConvergenceWarning)\n"
     ]
    },
    {
     "data": {
      "text/plain": [
       "<matplotlib.axes._subplots.AxesSubplot at 0x210405debe0>"
      ]
     },
     "execution_count": 40,
     "metadata": {},
     "output_type": "execute_result"
    },
    {
     "data": {
      "image/png": "[encoded data removed]",
      "text/plain": [
       "<Figure size 432x288 with 1 Axes>"
      ]
     },
     "metadata": {
      "needs_background": "light"
     },
     "output_type": "display_data"
    }
   ],
   "source": [
    "model = Lasso().fit(train_X, train_y_ln)\n",
    "print('intercept:'+ str(model.intercept_))\n",
    "sns.barplot(abs(model.coef_), continuous_feature_names)"
   ]
  },
  {
   "cell_type": "markdown",
   "metadata": {},
   "source": [
    "L1正则化有助于生成一个稀疏权值矩阵，进而可以用于特征选择。如上图，我们发现power与userd_time特征非常重要。"
   ]
  },
  {
   "cell_type": "markdown",
   "metadata": {},
   "source": [
    "3.`Ridge`方法即L2正则化的情况："
   ]
  },
  {
   "cell_type": "code",
   "execution_count": 38,
   "metadata": {},
   "outputs": [
    {
     "name": "stdout",
     "output_type": "stream",
     "text": [
      "intercept:2.7820015512913994\n"
     ]
    },
    {
     "data": {
      "text/plain": [
       "<matplotlib.axes._subplots.AxesSubplot at 0x2103fdd99b0>"
      ]
     },
     "execution_count": 38,
     "metadata": {},
     "output_type": "execute_result"
    },
    {
     "data": {
      "image/png": "[encoded data removed]",
      "text/plain": [
       "<Figure size 432x288 with 1 Axes>"
      ]
     },
     "metadata": {
      "needs_background": "light"
     },
     "output_type": "display_data"
    }
   ],
   "source": [
    "model = Ridge().fit(train_X, train_y_ln)\n",
    "print('intercept:'+ str(model.intercept_))\n",
    "sns.barplot(abs(model.coef_), continuous_feature_names)"
   ]
  },
  {
   "cell_type": "markdown",
   "metadata": {},
   "source": [
    "从上图可以看到有很多参数离0较远，很多为0。\n",
    "\n",
    "原因在于L2正则化在拟合过程中通常都倾向于让权值尽可能小，最后构造一个所有参数都比较小的模型。因为一般认为参数值小的模型比较简单，能适应不同的数据集，也在一定程度上避免了过拟合现象。\n",
    "\n",
    "可以设想一下对于一个线性回归方程，若参数很大，那么只要数据偏移一点点，就会对结果造成很大的影响；但如果参数足够小，数据偏移得多一点也不会对结果造成什么影响，专业一点的说法是『抗扰动能力强』\n",
    "\n",
    "除此之外，决策树通过信息熵或GINI指数选择分裂节点时，优先选择的分裂特征也更加重要，这同样是一种特征选择的方法。XGBoost与LightGBM模型中的model_importance指标正是基于此计算的"
   ]
  },
  {
   "cell_type": "markdown",
   "metadata": {},
   "source": [
    "## 4️⃣.2️⃣ 非线性模型\n",
    "&emsp;&emsp;支持向量机，决策树，随机森林，梯度提升树(GBDT)，多层感知机(MLP)，XGBoost，LightGBM等"
   ]
  },
  {
   "cell_type": "code",
   "execution_count": 42,
   "metadata": {},
   "outputs": [],
   "source": [
    "from sklearn.linear_model import LinearRegression\n",
    "from sklearn.svm import SVC\n",
    "from sklearn.tree import DecisionTreeRegressor\n",
    "from sklearn.ensemble import RandomForestRegressor\n",
    "from sklearn.ensemble import GradientBoostingRegressor\n",
    "from sklearn.neural_network import MLPRegressor\n",
    "from xgboost.sklearn import XGBRegressor\n",
    "from lightgbm.sklearn import LGBMRegressor"
   ]
  },
  {
   "cell_type": "markdown",
   "metadata": {},
   "source": [
    "定义模型集合"
   ]
  },
  {
   "cell_type": "code",
   "execution_count": 43,
   "metadata": {},
   "outputs": [],
   "source": [
    "models = [LinearRegression(),\n",
    "          DecisionTreeRegressor(),\n",
    "          RandomForestRegressor(),\n",
    "          GradientBoostingRegressor(),\n",
    "          MLPRegressor(solver='lbfgs', max_iter=100), \n",
    "          XGBRegressor(n_estimators = 100, objective='reg:squarederror'), \n",
    "          LGBMRegressor(n_estimators = 100)]"
   ]
  },
  {
   "cell_type": "markdown",
   "metadata": {},
   "source": [
    "用数据一一对模型进行训练"
   ]
  },
  {
   "cell_type": "code",
   "execution_count": 44,
   "metadata": {},
   "outputs": [
    {
     "name": "stdout",
     "output_type": "stream",
     "text": [
      "LinearRegression is finished\n",
      "DecisionTreeRegressor is finished\n",
      "RandomForestRegressor is finished\n",
      "GradientBoostingRegressor is finished\n",
      "MLPRegressor is finished\n",
      "XGBRegressor is finished\n",
      "LGBMRegressor is finished\n"
     ]
    }
   ],
   "source": [
    "result = dict()\n",
    "for model in models:\n",
    "    model_name = str(model).split('(')[0]\n",
    "    scores = cross_val_score(model, X=train_X, y=train_y_ln, verbose=0, cv = 5, scoring=make_scorer(mean_absolute_error))\n",
    "    result[model_name] = scores\n",
    "    print(model_name + ' is finished')"
   ]
  },
  {
   "cell_type": "code",
   "execution_count": 46,
   "metadata": {},
   "outputs": [
    {
     "data": {
      "text/html": [
       "<div>\n",
       "<style scoped>\n",
       "    .dataframe tbody tr th:only-of-type {\n",
       "        vertical-align: middle;\n",
       "    }\n",
       "\n",
       "    .dataframe tbody tr th {\n",
       "        vertical-align: top;\n",
       "    }\n",
       "\n",
       "    .dataframe thead th {\n",
       "        text-align: right;\n",
       "    }\n",
       "</style>\n",
       "<table border=\"1\" class=\"dataframe\">\n",
       "  <thead>\n",
       "    <tr style=\"text-align: right;\">\n",
       "      <th></th>\n",
       "      <th>LinearRegression</th>\n",
       "      <th>DecisionTreeRegressor</th>\n",
       "      <th>RandomForestRegressor</th>\n",
       "      <th>GradientBoostingRegressor</th>\n",
       "      <th>MLPRegressor</th>\n",
       "      <th>XGBRegressor</th>\n",
       "      <th>LGBMRegressor</th>\n",
       "    </tr>\n",
       "  </thead>\n",
       "  <tbody>\n",
       "    <tr>\n",
       "      <td>cv1</td>\n",
       "      <td>0.208238</td>\n",
       "      <td>0.224863</td>\n",
       "      <td>0.163196</td>\n",
       "      <td>0.179385</td>\n",
       "      <td>581.596878</td>\n",
       "      <td>0.155881</td>\n",
       "      <td>0.153942</td>\n",
       "    </tr>\n",
       "    <tr>\n",
       "      <td>cv2</td>\n",
       "      <td>0.212408</td>\n",
       "      <td>0.218795</td>\n",
       "      <td>0.164292</td>\n",
       "      <td>0.183759</td>\n",
       "      <td>182.180288</td>\n",
       "      <td>0.158566</td>\n",
       "      <td>0.160262</td>\n",
       "    </tr>\n",
       "    <tr>\n",
       "      <td>cv3</td>\n",
       "      <td>0.215933</td>\n",
       "      <td>0.216482</td>\n",
       "      <td>0.164849</td>\n",
       "      <td>0.185005</td>\n",
       "      <td>250.668763</td>\n",
       "      <td>0.158520</td>\n",
       "      <td>0.159943</td>\n",
       "    </tr>\n",
       "    <tr>\n",
       "      <td>cv4</td>\n",
       "      <td>0.210742</td>\n",
       "      <td>0.220903</td>\n",
       "      <td>0.160878</td>\n",
       "      <td>0.181660</td>\n",
       "      <td>139.101476</td>\n",
       "      <td>0.156608</td>\n",
       "      <td>0.157528</td>\n",
       "    </tr>\n",
       "    <tr>\n",
       "      <td>cv5</td>\n",
       "      <td>0.214747</td>\n",
       "      <td>0.226087</td>\n",
       "      <td>0.164713</td>\n",
       "      <td>0.183704</td>\n",
       "      <td>108.664261</td>\n",
       "      <td>0.173250</td>\n",
       "      <td>0.157149</td>\n",
       "    </tr>\n",
       "  </tbody>\n",
       "</table>\n",
       "</div>"
      ],
      "text/plain": [
       "     LinearRegression  DecisionTreeRegressor  RandomForestRegressor  \\\n",
       "cv1          0.208238               0.224863               0.163196   \n",
       "cv2          0.212408               0.218795               0.164292   \n",
       "cv3          0.215933               0.216482               0.164849   \n",
       "cv4          0.210742               0.220903               0.160878   \n",
       "cv5          0.214747               0.226087               0.164713   \n",
       "\n",
       "     GradientBoostingRegressor  MLPRegressor  XGBRegressor  LGBMRegressor  \n",
       "cv1                   0.179385    581.596878      0.155881       0.153942  \n",
       "cv2                   0.183759    182.180288      0.158566       0.160262  \n",
       "cv3                   0.185005    250.668763      0.158520       0.159943  \n",
       "cv4                   0.181660    139.101476      0.156608       0.157528  \n",
       "cv5                   0.183704    108.664261      0.173250       0.157149  "
      ]
     },
     "execution_count": 46,
     "metadata": {},
     "output_type": "execute_result"
    }
   ],
   "source": [
    "result = pd.DataFrame(result)\n",
    "result.index = ['cv' + str(x) for x in range(1, 6)]\n",
    "result"
   ]
  },
  {
   "cell_type": "markdown",
   "metadata": {},
   "source": [
    "可以看到随机森林模型在每一个fold中均取得了更好的效果"
   ]
  },
  {
   "cell_type": "code",
   "execution_count": 73,
   "metadata": {},
   "outputs": [
    {
     "data": {
      "text/plain": [
       "0.16358568277026037"
      ]
     },
     "execution_count": 73,
     "metadata": {},
     "output_type": "execute_result"
    }
   ],
   "source": [
    "np.mean(result['RandomForestRegressor'])"
   ]
  },
  {
   "cell_type": "markdown",
   "metadata": {},
   "source": [
    "## 4️⃣.3️⃣ 模型调参\n",
    "\n",
    "&emsp;&emsp;三种常用的调参方法如下：\n",
    "\n",
    "贪心算法 https://www.jianshu.com/p/ab89df9759c8<br>\n",
    "网格调参 https://blog.csdn.net/weixin_43172660/article/details/83032029<br>\n",
    "贝叶斯调参 https://blog.csdn.net/linxid/article/details/81189154<br>"
   ]
  },
  {
   "cell_type": "code",
   "execution_count": 49,
   "metadata": {},
   "outputs": [],
   "source": [
    "## LGB的参数集合：\n",
    "\n",
    "objective = ['regression', 'regression_l1', 'mape', 'huber', 'fair']\n",
    "\n",
    "num_leaves = [3,5,10,15,20,40, 55]\n",
    "max_depth = [3,5,10,15,20,40, 55]\n",
    "bagging_fraction = []\n",
    "feature_fraction = []\n",
    "drop_rate = []"
   ]
  },
  {
   "cell_type": "markdown",
   "metadata": {},
   "source": [
    "### 4️⃣.3️⃣.1️⃣ 贪心调参"
   ]
  },
  {
   "cell_type": "code",
   "execution_count": 50,
   "metadata": {},
   "outputs": [],
   "source": [
    "best_obj = dict()\n",
    "for obj in objective:\n",
    "    model = LGBMRegressor(objective=obj)\n",
    "    score = np.mean(cross_val_score(model, X=train_X, y=train_y_ln, verbose=0, cv = 5, scoring=make_scorer(mean_absolute_error)))\n",
    "    best_obj[obj] = score\n",
    "    \n",
    "best_leaves = dict()\n",
    "for leaves in num_leaves:\n",
    "    model = LGBMRegressor(objective=min(best_obj.items(), key=lambda x:x[1])[0], num_leaves=leaves)\n",
    "    score = np.mean(cross_val_score(model, X=train_X, y=train_y_ln, verbose=0, cv = 5, scoring=make_scorer(mean_absolute_error)))\n",
    "    best_leaves[leaves] = score\n",
    "    \n",
    "best_depth = dict()\n",
    "for depth in max_depth:\n",
    "    model = LGBMRegressor(objective=min(best_obj.items(), key=lambda x:x[1])[0],\n",
    "                          num_leaves=min(best_leaves.items(), key=lambda x:x[1])[0],\n",
    "                          max_depth=depth)\n",
    "    score = np.mean(cross_val_score(model, X=train_X, y=train_y_ln, verbose=0, cv = 5, scoring=make_scorer(mean_absolute_error)))\n",
    "    best_depth[depth] = score"
   ]
  },
  {
   "cell_type": "code",
   "execution_count": 54,
   "metadata": {},
   "outputs": [
    {
     "data": {
      "text/plain": [
       "<matplotlib.axes._subplots.AxesSubplot at 0x21041776128>"
      ]
     },
     "execution_count": 54,
     "metadata": {},
     "output_type": "execute_result"
    },
    {
     "data": {
      "image/png": "[encoded data removed]",
      "text/plain": [
       "<Figure size 432x288 with 1 Axes>"
      ]
     },
     "metadata": {
      "needs_background": "light"
     },
     "output_type": "display_data"
    }
   ],
   "source": [
    "sns.lineplot(x=['0_initial','1_turning_obj','2_turning_leaves','3_turning_depth'], y=[0.143 ,min(best_obj.values()), min(best_leaves.values()), min(best_depth.values())])"
   ]
  },
  {
   "cell_type": "markdown",
   "metadata": {},
   "source": [
    "### 4️⃣.3️⃣.2️⃣ Grid Search 网格调参"
   ]
  },
  {
   "cell_type": "code",
   "execution_count": 55,
   "metadata": {},
   "outputs": [],
   "source": [
    "from sklearn.model_selection import GridSearchCV"
   ]
  },
  {
   "cell_type": "code",
   "execution_count": 56,
   "metadata": {},
   "outputs": [],
   "source": [
    "parameters = {'objective': objective , 'num_leaves': num_leaves, 'max_depth': max_depth}\n",
    "model = LGBMRegressor()\n",
    "clf = GridSearchCV(model, parameters, cv=5)\n",
    "clf = clf.fit(train_X, train_y)"
   ]
  },
  {
   "cell_type": "code",
   "execution_count": 57,
   "metadata": {},
   "outputs": [
    {
     "data": {
      "text/plain": [
       "{'max_depth': 10, 'num_leaves': 55, 'objective': 'regression'}"
      ]
     },
     "execution_count": 57,
     "metadata": {},
     "output_type": "execute_result"
    }
   ],
   "source": [
    "clf.best_params_"
   ]
  },
  {
   "cell_type": "code",
   "execution_count": 59,
   "metadata": {},
   "outputs": [],
   "source": [
    "model = LGBMRegressor(objective='regression',\n",
    "                          num_leaves=55,\n",
    "                          max_depth=10)"
   ]
  },
  {
   "cell_type": "code",
   "execution_count": 60,
   "metadata": {},
   "outputs": [
    {
     "data": {
      "text/plain": [
       "0.1526351038235066"
      ]
     },
     "execution_count": 60,
     "metadata": {},
     "output_type": "execute_result"
    }
   ],
   "source": [
    "np.mean(cross_val_score(model, X=train_X, y=train_y_ln, verbose=0, cv = 5, scoring=make_scorer(mean_absolute_error)))"
   ]
  },
  {
   "cell_type": "markdown",
   "metadata": {},
   "source": [
    "### 4️⃣.3️⃣.3️⃣ 贝叶斯调参"
   ]
  },
  {
   "cell_type": "code",
   "execution_count": 63,
   "metadata": {},
   "outputs": [
    {
     "name": "stdout",
     "output_type": "stream",
     "text": [
      "Looking in indexes: https://pypi.tuna.tsinghua.edu.cn/simple\n",
      "Collecting bayesian-optimization\n",
      "  Downloading https://pypi.tuna.tsinghua.edu.cn/packages/b5/26/9842333adbb8f17bcb3d699400a8b1ccde0af0b6de8d07224e183728acdf/bayesian_optimization-1.1.0-py3-none-any.whl\n",
      "Requirement already satisfied: scikit-learn>=0.18.0 in d:\\software\\anaconda\\lib\\site-packages (from bayesian-optimization) (0.20.3)\n",
      "Requirement already satisfied: scipy>=0.14.0 in d:\\software\\anaconda\\lib\\site-packages (from bayesian-optimization) (1.2.1)\n",
      "Requirement already satisfied: numpy>=1.9.0 in d:\\software\\anaconda\\lib\\site-packages (from bayesian-optimization) (1.16.2)\n",
      "Installing collected packages: bayesian-optimization\n",
      "Successfully installed bayesian-optimization-1.1.0\n"
     ]
    }
   ],
   "source": [
    "!pip install -i https://pypi.tuna.tsinghua.edu.cn/simple bayesian-optimization\n",
    "from bayes_opt import BayesianOptimization"
   ]
  },
  {
   "cell_type": "code",
   "execution_count": 65,
   "metadata": {},
   "outputs": [],
   "source": [
    "def rf_cv(num_leaves, max_depth, subsample, min_child_samples):\n",
    "    val = cross_val_score(\n",
    "        LGBMRegressor(objective = 'regression_l1',\n",
    "            num_leaves=int(num_leaves),\n",
    "            max_depth=int(max_depth),\n",
    "            subsample = subsample,\n",
    "            min_child_samples = int(min_child_samples)\n",
    "        ),\n",
    "        X=train_X, y=train_y_ln, verbose=0, cv = 5, scoring=make_scorer(mean_absolute_error)\n",
    "    ).mean()\n",
    "    return 1 - val # 贝叶斯调参目标是求最大值，所以用1减去误差"
   ]
  },
  {
   "cell_type": "code",
   "execution_count": 66,
   "metadata": {},
   "outputs": [],
   "source": [
    "rf_bo = BayesianOptimization(\n",
    "    rf_cv,\n",
    "    {\n",
    "    'num_leaves': (2, 100),\n",
    "    'max_depth': (2, 100),\n",
    "    'subsample': (0.1, 1),\n",
    "    'min_child_samples' : (2, 100)\n",
    "    }\n",
    ")"
   ]
  },
  {
   "cell_type": "code",
   "execution_count": 67,
   "metadata": {},
   "outputs": [
    {
     "name": "stdout",
     "output_type": "stream",
     "text": [
      "|   iter    |  target   | max_depth | min_ch... | num_le... | subsample |\n",
      "-------------------------------------------------------------------------\n",
      "| \u001b[0m 1       \u001b[0m | \u001b[0m 0.8493  \u001b[0m | \u001b[0m 80.61   \u001b[0m | \u001b[0m 97.58   \u001b[0m | \u001b[0m 44.92   \u001b[0m | \u001b[0m 0.881   \u001b[0m |\n",
      "| \u001b[95m 2       \u001b[0m | \u001b[95m 0.8514  \u001b[0m | \u001b[95m 35.87   \u001b[0m | \u001b[95m 66.92   \u001b[0m | \u001b[95m 57.68   \u001b[0m | \u001b[95m 0.7878  \u001b[0m |\n",
      "| \u001b[95m 3       \u001b[0m | \u001b[95m 0.8522  \u001b[0m | \u001b[95m 49.75   \u001b[0m | \u001b[95m 68.95   \u001b[0m | \u001b[95m 64.99   \u001b[0m | \u001b[95m 0.1726  \u001b[0m |\n",
      "| \u001b[0m 4       \u001b[0m | \u001b[0m 0.8504  \u001b[0m | \u001b[0m 35.58   \u001b[0m | \u001b[0m 10.83   \u001b[0m | \u001b[0m 53.8    \u001b[0m | \u001b[0m 0.1306  \u001b[0m |\n",
      "| \u001b[0m 5       \u001b[0m | \u001b[0m 0.7942  \u001b[0m | \u001b[0m 63.37   \u001b[0m | \u001b[0m 32.21   \u001b[0m | \u001b[0m 3.143   \u001b[0m | \u001b[0m 0.4555  \u001b[0m |\n",
      "| \u001b[0m 6       \u001b[0m | \u001b[0m 0.7997  \u001b[0m | \u001b[0m 2.437   \u001b[0m | \u001b[0m 4.362   \u001b[0m | \u001b[0m 97.26   \u001b[0m | \u001b[0m 0.9957  \u001b[0m |\n",
      "| \u001b[95m 7       \u001b[0m | \u001b[95m 0.8526  \u001b[0m | \u001b[95m 47.85   \u001b[0m | \u001b[95m 69.39   \u001b[0m | \u001b[95m 68.02   \u001b[0m | \u001b[95m 0.8833  \u001b[0m |\n",
      "| \u001b[95m 8       \u001b[0m | \u001b[95m 0.8537  \u001b[0m | \u001b[95m 96.87   \u001b[0m | \u001b[95m 4.285   \u001b[0m | \u001b[95m 99.53   \u001b[0m | \u001b[95m 0.9389  \u001b[0m |\n",
      "| \u001b[95m 9       \u001b[0m | \u001b[95m 0.8546  \u001b[0m | \u001b[95m 96.06   \u001b[0m | \u001b[95m 97.85   \u001b[0m | \u001b[95m 98.82   \u001b[0m | \u001b[95m 0.8874  \u001b[0m |\n",
      "| \u001b[0m 10      \u001b[0m | \u001b[0m 0.7942  \u001b[0m | \u001b[0m 8.165   \u001b[0m | \u001b[0m 99.06   \u001b[0m | \u001b[0m 3.93    \u001b[0m | \u001b[0m 0.2049  \u001b[0m |\n",
      "| \u001b[0m 11      \u001b[0m | \u001b[0m 0.7993  \u001b[0m | \u001b[0m 2.77    \u001b[0m | \u001b[0m 99.47   \u001b[0m | \u001b[0m 91.16   \u001b[0m | \u001b[0m 0.2523  \u001b[0m |\n",
      "| \u001b[0m 12      \u001b[0m | \u001b[0m 0.852   \u001b[0m | \u001b[0m 99.3    \u001b[0m | \u001b[0m 43.04   \u001b[0m | \u001b[0m 62.67   \u001b[0m | \u001b[0m 0.9897  \u001b[0m |\n",
      "| \u001b[0m 13      \u001b[0m | \u001b[0m 0.8507  \u001b[0m | \u001b[0m 96.57   \u001b[0m | \u001b[0m 2.749   \u001b[0m | \u001b[0m 55.2    \u001b[0m | \u001b[0m 0.6727  \u001b[0m |\n",
      "| \u001b[0m 14      \u001b[0m | \u001b[0m 0.8168  \u001b[0m | \u001b[0m 3.076   \u001b[0m | \u001b[0m 3.269   \u001b[0m | \u001b[0m 33.78   \u001b[0m | \u001b[0m 0.5982  \u001b[0m |\n",
      "| \u001b[0m 15      \u001b[0m | \u001b[0m 0.8527  \u001b[0m | \u001b[0m 71.88   \u001b[0m | \u001b[0m 7.624   \u001b[0m | \u001b[0m 76.49   \u001b[0m | \u001b[0m 0.9536  \u001b[0m |\n",
      "| \u001b[0m 16      \u001b[0m | \u001b[0m 0.8528  \u001b[0m | \u001b[0m 99.44   \u001b[0m | \u001b[0m 99.28   \u001b[0m | \u001b[0m 69.58   \u001b[0m | \u001b[0m 0.7682  \u001b[0m |\n",
      "| \u001b[0m 17      \u001b[0m | \u001b[0m 0.8543  \u001b[0m | \u001b[0m 99.93   \u001b[0m | \u001b[0m 45.95   \u001b[0m | \u001b[0m 97.54   \u001b[0m | \u001b[0m 0.5095  \u001b[0m |\n",
      "| \u001b[0m 18      \u001b[0m | \u001b[0m 0.8518  \u001b[0m | \u001b[0m 60.87   \u001b[0m | \u001b[0m 99.67   \u001b[0m | \u001b[0m 61.3    \u001b[0m | \u001b[0m 0.7369  \u001b[0m |\n",
      "| \u001b[0m 19      \u001b[0m | \u001b[0m 0.8535  \u001b[0m | \u001b[0m 99.69   \u001b[0m | \u001b[0m 16.58   \u001b[0m | \u001b[0m 84.31   \u001b[0m | \u001b[0m 0.1025  \u001b[0m |\n",
      "| \u001b[0m 20      \u001b[0m | \u001b[0m 0.8507  \u001b[0m | \u001b[0m 54.68   \u001b[0m | \u001b[0m 38.11   \u001b[0m | \u001b[0m 54.65   \u001b[0m | \u001b[0m 0.9796  \u001b[0m |\n",
      "| \u001b[0m 21      \u001b[0m | \u001b[0m 0.8538  \u001b[0m | \u001b[0m 99.1    \u001b[0m | \u001b[0m 81.79   \u001b[0m | \u001b[0m 84.03   \u001b[0m | \u001b[0m 0.9823  \u001b[0m |\n",
      "| \u001b[0m 22      \u001b[0m | \u001b[0m 0.8529  \u001b[0m | \u001b[0m 99.28   \u001b[0m | \u001b[0m 3.373   \u001b[0m | \u001b[0m 83.48   \u001b[0m | \u001b[0m 0.7243  \u001b[0m |\n",
      "| \u001b[0m 23      \u001b[0m | \u001b[0m 0.8512  \u001b[0m | \u001b[0m 52.67   \u001b[0m | \u001b[0m 2.614   \u001b[0m | \u001b[0m 59.65   \u001b[0m | \u001b[0m 0.5286  \u001b[0m |\n",
      "| \u001b[95m 24      \u001b[0m | \u001b[95m 0.8546  \u001b[0m | \u001b[95m 75.81   \u001b[0m | \u001b[95m 61.62   \u001b[0m | \u001b[95m 99.78   \u001b[0m | \u001b[95m 0.9956  \u001b[0m |\n",
      "| \u001b[0m 25      \u001b[0m | \u001b[0m 0.853   \u001b[0m | \u001b[0m 45.9    \u001b[0m | \u001b[0m 33.68   \u001b[0m | \u001b[0m 74.59   \u001b[0m | \u001b[0m 0.73    \u001b[0m |\n",
      "| \u001b[0m 26      \u001b[0m | \u001b[0m 0.8532  \u001b[0m | \u001b[0m 82.58   \u001b[0m | \u001b[0m 63.9    \u001b[0m | \u001b[0m 78.61   \u001b[0m | \u001b[0m 0.1014  \u001b[0m |\n",
      "| \u001b[0m 27      \u001b[0m | \u001b[0m 0.8544  \u001b[0m | \u001b[0m 76.15   \u001b[0m | \u001b[0m 97.58   \u001b[0m | \u001b[0m 95.07   \u001b[0m | \u001b[0m 0.9995  \u001b[0m |\n",
      "| \u001b[0m 28      \u001b[0m | \u001b[0m 0.8545  \u001b[0m | \u001b[0m 95.75   \u001b[0m | \u001b[0m 74.96   \u001b[0m | \u001b[0m 99.45   \u001b[0m | \u001b[0m 0.7263  \u001b[0m |\n",
      "| \u001b[0m 29      \u001b[0m | \u001b[0m 0.8532  \u001b[0m | \u001b[0m 80.84   \u001b[0m | \u001b[0m 89.28   \u001b[0m | \u001b[0m 77.31   \u001b[0m | \u001b[0m 0.9389  \u001b[0m |\n",
      "| \u001b[0m 30      \u001b[0m | \u001b[0m 0.8545  \u001b[0m | \u001b[0m 82.92   \u001b[0m | \u001b[0m 35.46   \u001b[0m | \u001b[0m 96.66   \u001b[0m | \u001b[0m 0.969   \u001b[0m |\n",
      "=========================================================================\n"
     ]
    }
   ],
   "source": [
    "rf_bo.maximize()"
   ]
  },
  {
   "cell_type": "code",
   "execution_count": 69,
   "metadata": {},
   "outputs": [
    {
     "data": {
      "text/plain": [
       "{'target': 0.8545792238909576,\n",
       " 'params': {'max_depth': 75.80893509302794,\n",
       "  'min_child_samples': 61.62267920507557,\n",
       "  'num_leaves': 99.77501502667806,\n",
       "  'subsample': 0.9955706357612557}}"
      ]
     },
     "execution_count": 69,
     "metadata": {},
     "output_type": "execute_result"
    }
   ],
   "source": [
    "rf_bo.max"
   ]
  },
  {
   "cell_type": "code",
   "execution_count": 70,
   "metadata": {},
   "outputs": [
    {
     "data": {
      "text/plain": [
       "0.14542077610904236"
      ]
     },
     "execution_count": 70,
     "metadata": {},
     "output_type": "execute_result"
    }
   ],
   "source": [
    "1 - rf_bo.max['target']"
   ]
  },
  {
   "cell_type": "markdown",
   "metadata": {},
   "source": [
    "# 5️⃣ 总结\n",
    "&emsp;&emsp;在本章中，我们完成了建模与调参的工作，并对我们的模型进行了验证。此外，我们还采用了一些基本方法来提高预测的精度，提升如下图所示。"
   ]
  },
  {
   "cell_type": "code",
   "execution_count": 71,
   "metadata": {},
   "outputs": [
    {
     "data": {
      "text/plain": [
       "<matplotlib.axes._subplots.AxesSubplot at 0x21041688208>"
      ]
     },
     "execution_count": 71,
     "metadata": {},
     "output_type": "execute_result"
    },
    {
     "data": {
      "image/png": "[encoded data removed]",
      "text/plain": [
       "<Figure size 936x360 with 1 Axes>"
      ]
     },
     "metadata": {
      "needs_background": "light"
     },
     "output_type": "display_data"
    }
   ],
   "source": [
    "plt.figure(figsize=(13,5))\n",
    "sns.lineplot(x=['0_origin','1_log_transfer','2_L1_&_L2','3_change_model','4_parameter_turning'], y=[1.36 ,0.19, 0.19, 0.16, 0.15])"
   ]
  }
 ],
 "metadata": {
  "kernelspec": {
   "display_name": "Python 3",
   "language": "python",
   "name": "python3"
  },
  "language_info": {
   "codemirror_mode": {
    "name": "ipython",
    "version": 3
   },
   "file_extension": ".py",
   "mimetype": "text/x-python",
   "name": "python",
   "nbconvert_exporter": "python",
   "pygments_lexer": "ipython3",
   "version": "3.7.3"
  }
 },
 "nbformat": 4,
 "nbformat_minor": 2
}
